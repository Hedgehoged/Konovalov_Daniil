{
 "cells": [
  {
   "cell_type": "code",
   "execution_count": null,
   "metadata": {},
   "outputs": [],
   "source": [
    "import numpy as np\n",
    "from plotly import express as px"
   ]
  },
  {
   "cell_type": "code",
   "execution_count": null,
   "metadata": {},
   "outputs": [],
   "source": [
    "eps = 1e-10\n",
    "alpha = 0\n",
    "N = 1000 # на сколько подотрезков бить [0, 1]"
   ]
  },
  {
   "cell_type": "code",
   "execution_count": null,
   "metadata": {},
   "outputs": [],
   "source": [
    "def f1(x1, x2, p1, p2):\n",
    "    return x2\n",
    "\n",
    "\n",
    "def f2(x1, x2, p1, p2):\n",
    "    return p2 + x1 * np.exp(alpha * x1)\n",
    "\n",
    "\n",
    "def f3(x1, x2, p1, p2):\n",
    "    return -p2 * (1 + alpha * x1) * np.exp(alpha * x1)\n",
    "\n",
    "\n",
    "def f4(x1, x2, p1, p2):\n",
    "    return -p1\n",
    "\n",
    "\n",
    "def calc_k(x1, x2, p1, p2, k1=0, k2=0, k3=0, k4=0, h=0):\n",
    "    X = np.array([x1, x2, p1, p2]) + 0.5 * h * np.array([k1, k2, k3, k4])\n",
    "    return f1(*X), f2(*X), f3(*X), f4(*X)\n",
    "\n",
    "\n",
    "def gamma(v, k1, k2, k3, k4, h):\n",
    "    return v + h * (k1 + 2 * (k2 + k3) + k4) / 6\n",
    "\n",
    "\n",
    "def gammas(vs, h):\n",
    "    ks1 = calc_k(*vs)\n",
    "    ks2 = calc_k(*vs, *ks1, h)\n",
    "    ks3 = calc_k(*vs, *ks2, h)\n",
    "    ks4 = calc_k(*vs, *ks3, h)\n",
    "    return [gamma(v, ks1[i], ks2[i], ks3[i], ks4[i], h) for i, v in enumerate(vs)]"
   ]
  },
  {
   "cell_type": "code",
   "execution_count": null,
   "metadata": {},
   "outputs": [],
   "source": [
    "def solve(a, b):\n",
    "    t = np.linspace(0, 1, N)\n",
    "    xs1 = np.zeros(t.shape)\n",
    "    xs2 = np.zeros(t.shape)\n",
    "    ps1 = np.zeros(t.shape)\n",
    "    ps2 = np.zeros(t.shape)\n",
    "\n",
    "    # Начальные условия\n",
    "    xs1[0], xs2[0], ps1[0], ps2[0] = 0, 0, a, b\n",
    "    h = t[1] - t[0]\n",
    "\n",
    "    for i in range(1, len(t)):\n",
    "        xs1[i], xs2[i], ps1[i], ps2[i] = gammas((xs1[i - 1], xs2[i - 1], ps1[i - 1], ps2[i - 1]), h)\n",
    "\n",
    "    return xs1, xs2, ps1, ps2, t"
   ]
  },
  {
   "cell_type": "code",
   "execution_count": null,
   "metadata": {},
   "outputs": [],
   "source": [
    "def err_x1(res):\n",
    "    x1T = np.sinh(1)\n",
    "    return res[0][-1] - x1T\n",
    "\n",
    "\n",
    "def err_x2(res):\n",
    "    x2T = np.exp(1)\n",
    "    return res[1][-1] - x2T\n",
    "\n",
    "\n",
    "def err_total(res):\n",
    "    return abs(err_x1(res)) + abs(err_x2(res))\n",
    "\n",
    "\n",
    "def calc_near_solutions(a, b, h):\n",
    "    return solve(a, b), solve(a + h, b), solve(a, b + h)\n",
    "\n",
    "\n",
    "def shooting(a0=1, b0=1, max_iter=100):\n",
    "    a, b = a0, b0\n",
    "    counter = 0\t\n",
    "    h = 1 / N\n",
    "    sol_ab, sol_ahb, sol_abh = calc_near_solutions(a, b, h)\n",
    "    err = err_total(sol_ab)\n",
    "    try:\n",
    "        while err > eps and counter < max_iter:\n",
    "            phi1, phi1a, phi1b = err_x1(sol_ab), err_x1(sol_ahb), err_x1(sol_abh)\n",
    "            phi2, phi2a, phi2b = err_x2(sol_ab), err_x2(sol_ahb), err_x2(sol_abh)\n",
    "            W = np.array([\n",
    "                [(phi1a - phi1) / h, (phi1b - phi1) / h],    #\n",
    "                [(phi2a - phi2) / h, (phi2b - phi2) / h]\n",
    "            ])\n",
    "            da, db = np.dot(np.linalg.inv(W), [phi1, phi2])\n",
    "            a, b = a - da, b - db\n",
    "            sol_ab, sol_ahb, sol_abh = calc_near_solutions(a, b, h)\n",
    "            err = err_total(sol_ab)\n",
    "            counter += 1\n",
    "    except Exception as ex:\n",
    "        print('Shooting stop with exception:', ex)\n",
    "        print('Output maybe incorrect')\n",
    "    print('Final error:', err, 'Total iterations:', counter)\n",
    "\n",
    "    return a, b\n"
   ]
  },
  {
   "cell_type": "code",
   "execution_count": null,
   "metadata": {},
   "outputs": [],
   "source": [
    "def x1_teor(t):\n",
    "    return t * np.sinh(t)\n",
    "\n",
    "\n",
    "def x2_teor(t):\n",
    "    return t * np.cosh(t) + np.sinh(t)"
   ]
  },
  {
   "cell_type": "code",
   "execution_count": null,
   "metadata": {},
   "outputs": [],
   "source": [
    "a, b = shooting(a0=-10, b0=-1)\n",
    "print('a=', a, 'b=', b)\n",
    "\n",
    "res = solve(a, b)\n",
    "x1, x2, p1, p2, t = res\n",
    "u = p2\n",
    "\n",
    "fig = px.line(width=720, height=480)\n",
    "fig.add_scatter(x=t, y=x1, mode='lines', name='x')\n",
    "# fig.add_scatter(x=t, y=x2, mode='lines', name='x2')\n",
    "if alpha == 0:\n",
    "    x1t = [x1_teor(t) for t in res[-1]]\n",
    "    x2t = [x2_teor(t) for t in res[-1]]\n",
    "    fig.add_scatter(x=t, y=x1t, mode='lines', name='x_teor')\n",
    "    # fig.add_scatter(x=t, y=x2t, mode='lines', name='x2_teor')\n",
    "fig.add_scatter(x=t, y=u, mode='lines', name='u')\n",
    "fig.show()"
   ]
  },
  {
   "cell_type": "code",
   "execution_count": null,
   "metadata": {},
   "outputs": [],
   "source": []
  }
 ],
 "metadata": {
  "interpreter": {
   "hash": "8fa7e773e021178b60b861b58e61a062eb36f2bfff97ed676ac47130f77a6ae3"
  },
  "kernelspec": {
   "display_name": "Python 3.8.10 64-bit",
   "name": "python3"
  },
  "language_info": {
   "codemirror_mode": {
    "name": "ipython",
    "version": 3
   },
   "file_extension": ".py",
   "mimetype": "text/x-python",
   "name": "python",
   "nbconvert_exporter": "python",
   "pygments_lexer": "ipython3",
   "version": "3.8.10"
  },
  "orig_nbformat": 2
 },
 "nbformat": 4,
 "nbformat_minor": 2
}
